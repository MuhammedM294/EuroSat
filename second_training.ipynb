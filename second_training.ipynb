{
 "cells": [
  {
   "cell_type": "markdown",
   "metadata": {},
   "source": [
    "#### 1. Import the Relevent Packages"
   ]
  },
  {
   "cell_type": "code",
   "execution_count": 1,
   "metadata": {},
   "outputs": [],
   "source": [
    "import torch\n",
    "import torch.nn as nn\n",
    "import torch.optim as optim\n",
    "from torchvision import transforms, datasets, models\n",
    "import cv2\n",
    "import numpy as np\n",
    "import matplotlib.pyplot as plt\n",
    "from torch.utils.data import DataLoader, Dataset\n",
    "from glob import glob\n",
    "from torchsummary import summary\n",
    "import os\n",
    "import warnings\n",
    "warnings.filterwarnings('ignore')"
   ]
  },
  {
   "cell_type": "code",
   "execution_count": 2,
   "metadata": {},
   "outputs": [],
   "source": [
    "# Device configuration\n",
    "device = torch.device(\"cuda\" if torch.cuda.is_available() else \"cpu\")"
   ]
  },
  {
   "cell_type": "markdown",
   "metadata": {},
   "source": [
    "#### 2. Prepare the Dataset"
   ]
  },
  {
   "cell_type": "code",
   "execution_count": 3,
   "metadata": {},
   "outputs": [],
   "source": [
    "class MyDataset(Dataset):\n",
    "    \n",
    "    def __init__(self, root, transform_status=True):\n",
    "        \n",
    "        self.root = root\n",
    "        self.images_paths = [glob(f'{root}/{folder}/*.jpg') for folder in os.listdir(f\"{root}\")] \n",
    "\n",
    "        import itertools\n",
    "        self.images_paths = list(itertools.chain.from_iterable(self.images_paths))\n",
    "\n",
    "        import random\n",
    "        random.shuffle(self.images_paths)\n",
    "\n",
    "        self.classes_names = {class_name:label for label, class_name in enumerate(os.listdir(f\"{root}\"))}\n",
    "        self.labels = [self.classes_names[os.path.basename(os.path.dirname(path))] for path in self.images_paths]\n",
    "        self.transform_status = transform_status\n",
    "        self.transform = transforms.Normalize(mean=[0.485,0.456, 0.406],std=[0.229, 0.224, 0.225])\n",
    "    \n",
    "    def __len__(self):\n",
    "        return len(self.images_paths)   \n",
    "        \n",
    "    def __getitem__(self, index):\n",
    "        image_path = self.images_paths[index]\n",
    "        image = cv2.imread(image_path)[:,:,::-1]\n",
    "        image = cv2.resize(image, (64,64))\n",
    "        image = torch.tensor(image/255).permute(2,0,1)\n",
    "        if self.transform_status: image = self.transform(image)\n",
    "        label = self.labels[index]\n",
    "        \n",
    "        return image.float().to(device), torch.tensor([label]).float().to(device)\n",
    "    \n",
    "    "
   ]
  },
  {
   "cell_type": "code",
   "execution_count": 4,
   "metadata": {},
   "outputs": [],
   "source": [
    "data =  MyDataset(\"dataset_rgb/train\", transform_status=False)"
   ]
  },
  {
   "cell_type": "code",
   "execution_count": 5,
   "metadata": {},
   "outputs": [
    {
     "data": {
      "text/plain": [
       "{'River': 0,\n",
       " 'HerbaceousVegetation': 1,\n",
       " 'Residential': 2,\n",
       " 'Highway': 3,\n",
       " 'SeaLake': 4,\n",
       " 'AnnualCrop': 5,\n",
       " 'PermanentCrop': 6,\n",
       " 'Forest': 7,\n",
       " 'Industrial': 8,\n",
       " 'Pasture': 9}"
      ]
     },
     "execution_count": 5,
     "metadata": {},
     "output_type": "execute_result"
    }
   ],
   "source": [
    "data.classes_names"
   ]
  },
  {
   "cell_type": "code",
   "execution_count": 6,
   "metadata": {},
   "outputs": [],
   "source": [
    "import random\n",
    "image, label = data[random.randint(0, len(data))]"
   ]
  },
  {
   "cell_type": "code",
   "execution_count": 7,
   "metadata": {},
   "outputs": [
    {
     "name": "stdout",
     "output_type": "stream",
     "text": [
      "Image Size: 64 x 64 x 3\n",
      "Label: tensor([8.], device='cuda:0')\n",
      "Industrial\n"
     ]
    },
    {
     "data": {
      "image/png": "[encoded data removed]",
      "text/plain": [
       "<Figure size 432x288 with 1 Axes>"
      ]
     },
     "metadata": {
      "needs_background": "light"
     },
     "output_type": "display_data"
    }
   ],
   "source": [
    "print(f\"Image Size: {image.shape[2]} x {image.shape[1]} x {image.shape[0]}\")\n",
    "print(f\"Label: {label}\")\n",
    "print([key  for key, value in data.classes_names.items() if value == label][0])\n",
    "plt.imshow(image.permute(1,2,0).cpu().numpy())\n",
    "plt.show()"
   ]
  },
  {
   "cell_type": "code",
   "execution_count": 8,
   "metadata": {},
   "outputs": [],
   "source": [
    "train_dataset = MyDataset(\"dataset_rgb/train\", transform_status=True)\n",
    "test_dataset = MyDataset(\"dataset_rgb/test\", transform_status=True)\n",
    "train_dataset_loader = DataLoader(train_dataset, batch_size=32, shuffle=True, drop_last=True)\n",
    "test_dataset_loader = DataLoader(test_dataset, batch_size=32, shuffle=True, drop_last=True)"
   ]
  },
  {
   "cell_type": "markdown",
   "metadata": {},
   "source": [
    "#### 3. Build the Model"
   ]
  },
  {
   "cell_type": "code",
   "execution_count": 9,
   "metadata": {},
   "outputs": [],
   "source": [
    "def build_model():\n",
    "    vgg16 = models.vgg16(pretrained=True)\n",
    "    for param in vgg16.parameters():\n",
    "        param.requires_grad = False\n",
    "    vgg16.avgpool = nn.AdaptiveAvgPool2d(output_size=(1,1))\n",
    "    vgg16.classifier = nn.Sequential(   nn.Flatten(),\n",
    "                                        nn.Linear(512, 128),\n",
    "                                        nn.ReLU(),\n",
    "                                        nn.Dropout(0.2),\n",
    "                                        nn.Linear(128, 10))\n",
    "    loss_function = nn.CrossEntropyLoss()\n",
    "    optimizer = optim.Adam(vgg16.parameters(), lr=1e-3)\n",
    "\n",
    "    return vgg16.to(device), loss_function, optimizer"
   ]
  },
  {
   "cell_type": "code",
   "execution_count": 10,
   "metadata": {},
   "outputs": [],
   "source": [
    "model , loss_function, optimizer = build_model()"
   ]
  },
  {
   "cell_type": "code",
   "execution_count": 11,
   "metadata": {},
   "outputs": [
    {
     "name": "stdout",
     "output_type": "stream",
     "text": [
      "==========================================================================================\n",
      "Layer (type:depth-idx)                   Output Shape              Param #\n",
      "==========================================================================================\n",
      "├─Sequential: 1-1                        [-1, 512, 2, 2]           --\n",
      "|    └─Conv2d: 2-1                       [-1, 64, 64, 64]          (1,792)\n",
      "|    └─ReLU: 2-2                         [-1, 64, 64, 64]          --\n",
      "|    └─Conv2d: 2-3                       [-1, 64, 64, 64]          (36,928)\n",
      "|    └─ReLU: 2-4                         [-1, 64, 64, 64]          --\n",
      "|    └─MaxPool2d: 2-5                    [-1, 64, 32, 32]          --\n",
      "|    └─Conv2d: 2-6                       [-1, 128, 32, 32]         (73,856)\n",
      "|    └─ReLU: 2-7                         [-1, 128, 32, 32]         --\n",
      "|    └─Conv2d: 2-8                       [-1, 128, 32, 32]         (147,584)\n",
      "|    └─ReLU: 2-9                         [-1, 128, 32, 32]         --\n",
      "|    └─MaxPool2d: 2-10                   [-1, 128, 16, 16]         --\n",
      "|    └─Conv2d: 2-11                      [-1, 256, 16, 16]         (295,168)\n",
      "|    └─ReLU: 2-12                        [-1, 256, 16, 16]         --\n",
      "|    └─Conv2d: 2-13                      [-1, 256, 16, 16]         (590,080)\n",
      "|    └─ReLU: 2-14                        [-1, 256, 16, 16]         --\n",
      "|    └─Conv2d: 2-15                      [-1, 256, 16, 16]         (590,080)\n",
      "|    └─ReLU: 2-16                        [-1, 256, 16, 16]         --\n",
      "|    └─MaxPool2d: 2-17                   [-1, 256, 8, 8]           --\n",
      "|    └─Conv2d: 2-18                      [-1, 512, 8, 8]           (1,180,160)\n",
      "|    └─ReLU: 2-19                        [-1, 512, 8, 8]           --\n",
      "|    └─Conv2d: 2-20                      [-1, 512, 8, 8]           (2,359,808)\n",
      "|    └─ReLU: 2-21                        [-1, 512, 8, 8]           --\n",
      "|    └─Conv2d: 2-22                      [-1, 512, 8, 8]           (2,359,808)\n",
      "|    └─ReLU: 2-23                        [-1, 512, 8, 8]           --\n",
      "|    └─MaxPool2d: 2-24                   [-1, 512, 4, 4]           --\n",
      "|    └─Conv2d: 2-25                      [-1, 512, 4, 4]           (2,359,808)\n",
      "|    └─ReLU: 2-26                        [-1, 512, 4, 4]           --\n",
      "|    └─Conv2d: 2-27                      [-1, 512, 4, 4]           (2,359,808)\n",
      "|    └─ReLU: 2-28                        [-1, 512, 4, 4]           --\n",
      "|    └─Conv2d: 2-29                      [-1, 512, 4, 4]           (2,359,808)\n",
      "|    └─ReLU: 2-30                        [-1, 512, 4, 4]           --\n",
      "|    └─MaxPool2d: 2-31                   [-1, 512, 2, 2]           --\n",
      "├─AdaptiveAvgPool2d: 1-2                 [-1, 512, 1, 1]           --\n",
      "├─Sequential: 1-3                        [-1, 10]                  --\n",
      "|    └─Flatten: 2-32                     [-1, 512]                 --\n",
      "|    └─Linear: 2-33                      [-1, 128]                 65,664\n",
      "|    └─ReLU: 2-34                        [-1, 128]                 --\n",
      "|    └─Dropout: 2-35                     [-1, 128]                 --\n",
      "|    └─Linear: 2-36                      [-1, 10]                  1,290\n",
      "==========================================================================================\n",
      "Total params: 14,781,642\n",
      "Trainable params: 66,954\n",
      "Non-trainable params: 14,714,688\n",
      "Total mult-adds (G): 1.27\n",
      "==========================================================================================\n",
      "Input size (MB): 0.05\n",
      "Forward/backward pass size (MB): 8.44\n",
      "Params size (MB): 56.39\n",
      "Estimated Total Size (MB): 64.87\n",
      "==========================================================================================\n"
     ]
    },
    {
     "data": {
      "text/plain": [
       "==========================================================================================\n",
       "Layer (type:depth-idx)                   Output Shape              Param #\n",
       "==========================================================================================\n",
       "├─Sequential: 1-1                        [-1, 512, 2, 2]           --\n",
       "|    └─Conv2d: 2-1                       [-1, 64, 64, 64]          (1,792)\n",
       "|    └─ReLU: 2-2                         [-1, 64, 64, 64]          --\n",
       "|    └─Conv2d: 2-3                       [-1, 64, 64, 64]          (36,928)\n",
       "|    └─ReLU: 2-4                         [-1, 64, 64, 64]          --\n",
       "|    └─MaxPool2d: 2-5                    [-1, 64, 32, 32]          --\n",
       "|    └─Conv2d: 2-6                       [-1, 128, 32, 32]         (73,856)\n",
       "|    └─ReLU: 2-7                         [-1, 128, 32, 32]         --\n",
       "|    └─Conv2d: 2-8                       [-1, 128, 32, 32]         (147,584)\n",
       "|    └─ReLU: 2-9                         [-1, 128, 32, 32]         --\n",
       "|    └─MaxPool2d: 2-10                   [-1, 128, 16, 16]         --\n",
       "|    └─Conv2d: 2-11                      [-1, 256, 16, 16]         (295,168)\n",
       "|    └─ReLU: 2-12                        [-1, 256, 16, 16]         --\n",
       "|    └─Conv2d: 2-13                      [-1, 256, 16, 16]         (590,080)\n",
       "|    └─ReLU: 2-14                        [-1, 256, 16, 16]         --\n",
       "|    └─Conv2d: 2-15                      [-1, 256, 16, 16]         (590,080)\n",
       "|    └─ReLU: 2-16                        [-1, 256, 16, 16]         --\n",
       "|    └─MaxPool2d: 2-17                   [-1, 256, 8, 8]           --\n",
       "|    └─Conv2d: 2-18                      [-1, 512, 8, 8]           (1,180,160)\n",
       "|    └─ReLU: 2-19                        [-1, 512, 8, 8]           --\n",
       "|    └─Conv2d: 2-20                      [-1, 512, 8, 8]           (2,359,808)\n",
       "|    └─ReLU: 2-21                        [-1, 512, 8, 8]           --\n",
       "|    └─Conv2d: 2-22                      [-1, 512, 8, 8]           (2,359,808)\n",
       "|    └─ReLU: 2-23                        [-1, 512, 8, 8]           --\n",
       "|    └─MaxPool2d: 2-24                   [-1, 512, 4, 4]           --\n",
       "|    └─Conv2d: 2-25                      [-1, 512, 4, 4]           (2,359,808)\n",
       "|    └─ReLU: 2-26                        [-1, 512, 4, 4]           --\n",
       "|    └─Conv2d: 2-27                      [-1, 512, 4, 4]           (2,359,808)\n",
       "|    └─ReLU: 2-28                        [-1, 512, 4, 4]           --\n",
       "|    └─Conv2d: 2-29                      [-1, 512, 4, 4]           (2,359,808)\n",
       "|    └─ReLU: 2-30                        [-1, 512, 4, 4]           --\n",
       "|    └─MaxPool2d: 2-31                   [-1, 512, 2, 2]           --\n",
       "├─AdaptiveAvgPool2d: 1-2                 [-1, 512, 1, 1]           --\n",
       "├─Sequential: 1-3                        [-1, 10]                  --\n",
       "|    └─Flatten: 2-32                     [-1, 512]                 --\n",
       "|    └─Linear: 2-33                      [-1, 128]                 65,664\n",
       "|    └─ReLU: 2-34                        [-1, 128]                 --\n",
       "|    └─Dropout: 2-35                     [-1, 128]                 --\n",
       "|    └─Linear: 2-36                      [-1, 10]                  1,290\n",
       "==========================================================================================\n",
       "Total params: 14,781,642\n",
       "Trainable params: 66,954\n",
       "Non-trainable params: 14,714,688\n",
       "Total mult-adds (G): 1.27\n",
       "==========================================================================================\n",
       "Input size (MB): 0.05\n",
       "Forward/backward pass size (MB): 8.44\n",
       "Params size (MB): 56.39\n",
       "Estimated Total Size (MB): 64.87\n",
       "=========================================================================================="
      ]
     },
     "execution_count": 11,
     "metadata": {},
     "output_type": "execute_result"
    }
   ],
   "source": [
    "summary(model, torch.zeros(1,3, 64, 64))"
   ]
  },
  {
   "cell_type": "markdown",
   "metadata": {},
   "source": [
    "#### 4. Build the Train and Accuracy Functions "
   ]
  },
  {
   "cell_type": "code",
   "execution_count": 12,
   "metadata": {},
   "outputs": [],
   "source": [
    "def train_batch(model, loss_function, optimizer, image, label):\n",
    "    model.train()\n",
    "    optimizer.zero_grad()\n",
    "    prediction = model(image)\n",
    "    loss = loss_function(prediction, label.long().squeeze())\n",
    "    loss.backward()\n",
    "    optimizer.step()\n",
    "    return loss.item()"
   ]
  },
  {
   "cell_type": "code",
   "execution_count": 13,
   "metadata": {},
   "outputs": [],
   "source": [
    "@torch.no_grad()\n",
    "def accuracy(model, loss_function, image, label):\n",
    "    model.eval()\n",
    "    prediction = model(image)\n",
    "    max_values, argmaxes = prediction.max(-1)\n",
    "    is_correct = argmaxes == label.long().squeeze()\n",
    "    return is_correct.cpu().numpy().tolist()"
   ]
  },
  {
   "cell_type": "code",
   "execution_count": 14,
   "metadata": {},
   "outputs": [],
   "source": [
    "@torch.no_grad()\n",
    "def validation_loss(model, loss_function, image, label):\n",
    "    model.eval()\n",
    "    prediction = model(image)\n",
    "    loss = loss_function(prediction, label.long().squeeze())\n",
    "    return loss.item()"
   ]
  },
  {
   "cell_type": "markdown",
   "metadata": {},
   "source": [
    "#### 5. Train the Model"
   ]
  },
  {
   "cell_type": "code",
   "execution_count": 15,
   "metadata": {},
   "outputs": [
    {
     "name": "stdout",
     "output_type": "stream",
     "text": [
      "Epoch: 1\n",
      "Train Loss: 0.4125\n",
      "Train Accuracy: 92.01%\n",
      "Test Loss: 0.3215\n",
      "Test Accuracy: 89.60%\n",
      "Epoch: 2\n",
      "Train Loss: 0.2513\n",
      "Train Accuracy: 93.66%\n",
      "Test Loss: 0.2869\n",
      "Test Accuracy: 90.34%\n",
      "Epoch: 3\n",
      "Train Loss: 0.2084\n",
      "Train Accuracy: 93.74%\n",
      "Test Loss: 0.3080\n",
      "Test Accuracy: 90.20%\n",
      "Epoch: 4\n",
      "Train Loss: 0.1860\n",
      "Train Accuracy: 95.11%\n",
      "Test Loss: 0.2816\n",
      "Test Accuracy: 90.93%\n",
      "Epoch: 5\n",
      "Train Loss: 0.1679\n",
      "Train Accuracy: 95.47%\n",
      "Test Loss: 0.2987\n",
      "Test Accuracy: 90.58%\n",
      "Epoch: 6\n",
      "Train Loss: 0.1534\n",
      "Train Accuracy: 96.50%\n",
      "Test Loss: 0.2804\n",
      "Test Accuracy: 91.17%\n",
      "Epoch: 7\n",
      "Train Loss: 0.1394\n",
      "Train Accuracy: 96.86%\n",
      "Test Loss: 0.2909\n",
      "Test Accuracy: 90.93%\n",
      "Epoch: 8\n",
      "Train Loss: 0.1261\n",
      "Train Accuracy: 97.34%\n",
      "Test Loss: 0.2977\n",
      "Test Accuracy: 91.05%\n",
      "Epoch: 9\n",
      "Train Loss: 0.1162\n",
      "Train Accuracy: 97.60%\n",
      "Test Loss: 0.3008\n",
      "Test Accuracy: 91.21%\n",
      "Epoch: 10\n",
      "Train Loss: 0.1020\n",
      "Train Accuracy: 97.77%\n",
      "Test Loss: 0.3252\n",
      "Test Accuracy: 90.65%\n",
      "Epoch: 11\n",
      "Train Loss: 0.0947\n",
      "Train Accuracy: 97.76%\n",
      "Test Loss: 0.3363\n",
      "Test Accuracy: 90.44%\n",
      "Epoch: 12\n",
      "Train Loss: 0.0826\n",
      "Train Accuracy: 98.03%\n",
      "Test Loss: 0.3543\n",
      "Test Accuracy: 90.65%\n",
      "Epoch: 13\n",
      "Train Loss: 0.0791\n",
      "Train Accuracy: 98.49%\n",
      "Test Loss: 0.3504\n",
      "Test Accuracy: 90.85%\n",
      "Epoch: 14\n",
      "Train Loss: 0.0738\n",
      "Train Accuracy: 98.72%\n",
      "Test Loss: 0.3482\n",
      "Test Accuracy: 91.09%\n",
      "Epoch: 15\n",
      "Train Loss: 0.0653\n",
      "Train Accuracy: 99.15%\n",
      "Test Loss: 0.3519\n",
      "Test Accuracy: 90.77%\n",
      "Epoch: 16\n",
      "Train Loss: 0.0601\n",
      "Train Accuracy: 99.00%\n",
      "Test Loss: 0.3939\n",
      "Test Accuracy: 90.87%\n",
      "Epoch: 17\n",
      "Train Loss: 0.0576\n",
      "Train Accuracy: 99.06%\n",
      "Test Loss: 0.3890\n",
      "Test Accuracy: 90.89%\n",
      "Epoch: 18\n",
      "Train Loss: 0.0516\n",
      "Train Accuracy: 99.32%\n",
      "Test Loss: 0.3991\n",
      "Test Accuracy: 90.85%\n",
      "Epoch: 19\n",
      "Train Loss: 0.0508\n",
      "Train Accuracy: 99.35%\n",
      "Test Loss: 0.4176\n",
      "Test Accuracy: 90.91%\n",
      "Epoch: 20\n",
      "Train Loss: 0.0446\n",
      "Train Accuracy: 99.34%\n",
      "Test Loss: 0.4184\n",
      "Test Accuracy: 90.93%\n",
      "Epoch: 21\n",
      "Train Loss: 0.0438\n",
      "Train Accuracy: 99.53%\n",
      "Test Loss: 0.4313\n",
      "Test Accuracy: 90.71%\n",
      "Epoch: 22\n",
      "Train Loss: 0.0401\n",
      "Train Accuracy: 99.42%\n",
      "Test Loss: 0.4352\n",
      "Test Accuracy: 90.93%\n",
      "Epoch: 23\n",
      "Train Loss: 0.0344\n",
      "Train Accuracy: 99.63%\n",
      "Test Loss: 0.4444\n",
      "Test Accuracy: 90.93%\n",
      "Epoch: 24\n",
      "Train Loss: 0.0355\n",
      "Train Accuracy: 99.71%\n",
      "Test Loss: 0.4583\n",
      "Test Accuracy: 91.17%\n",
      "Epoch: 25\n",
      "Train Loss: 0.0315\n",
      "Train Accuracy: 99.59%\n",
      "Test Loss: 0.4578\n",
      "Test Accuracy: 90.75%\n"
     ]
    }
   ],
   "source": [
    "train_losses = []\n",
    "train_accuracies = []\n",
    "test_losses = []\n",
    "test_accuracies = []\n",
    "for epoch in range(25):\n",
    "    print(f\"Epoch: {epoch+1}\")\n",
    "    train_epoch_losses = []\n",
    "    train_epoch_accuracies = []\n",
    "    for image, label in iter(train_dataset_loader):\n",
    "        loss = train_batch(model, loss_function, optimizer, image, label)\n",
    "        train_epoch_losses.append(loss)\n",
    "    train_epoch_loss = np.mean(train_epoch_losses)\n",
    "    print(f\"Train Loss: {train_epoch_loss:.4f}\")\n",
    "    train_losses.append(train_epoch_loss)\n",
    "    \n",
    "    for image, label in iter(train_dataset_loader):\n",
    "        is_correct = accuracy(model, loss_function, image, label)\n",
    "        train_epoch_accuracies.extend(is_correct)\n",
    "    train_epoch_accuracy = np.mean(train_epoch_accuracies)\n",
    "    print(f\"Train Accuracy: {train_epoch_accuracy*100:.2f}%\")\n",
    "    train_accuracies.append(train_epoch_accuracy)\n",
    "    \n",
    "    test_epoch_losses = []\n",
    "    test_epoch_accuracies = []\n",
    "    for image, label in iter(test_dataset_loader):\n",
    "        loss = validation_loss(model, loss_function, image, label)\n",
    "        test_epoch_losses.append(loss)\n",
    "        is_correct = accuracy(model, loss_function, image, label)\n",
    "        test_epoch_accuracies.extend(is_correct)\n",
    "    test_epoch_loss = np.mean(test_epoch_losses)\n",
    "    print(f\"Test Loss: {test_epoch_loss:.4f}\")\n",
    "    test_losses.append(test_epoch_loss)\n",
    "    test_epcoh_accuracy = np.mean(test_epoch_accuracies)\n",
    "    print(f\"Test Accuracy: {test_epcoh_accuracy*100:.2f}%\")\n",
    "    test_accuracies.append(test_epcoh_accuracy)\n"
   ]
  },
  {
   "cell_type": "markdown",
   "metadata": {},
   "source": [
    "#### 6. Visualize the Train Loss/Accuracy and the Test Loss/Accuracy"
   ]
  },
  {
   "cell_type": "code",
   "execution_count": 16,
   "metadata": {},
   "outputs": [
    {
     "data": {
      "image/png": "[encoded data removed]",
      "text/plain": [
       "<Figure size 1440x360 with 2 Axes>"
      ]
     },
     "metadata": {
      "needs_background": "light"
     },
     "output_type": "display_data"
    }
   ],
   "source": [
    "epochs = np.arange(25)+1\n",
    "plt.figure(figsize=(20,5))\n",
    "plt.subplot(121)\n",
    "plt.title('Training and Test Loss value over increasing epochs')\n",
    "plt.plot(epochs, train_losses,'b', label='Training Loss')\n",
    "plt.plot(epochs, test_losses,'r', label='Test Loss')\n",
    "plt.legend()\n",
    "plt.subplot(122)\n",
    "plt.title('Training and Test Accuracy value over increasing epochs')\n",
    "plt.plot(epochs, train_accuracies,'b', label='Training Accuracy')\n",
    "plt.plot(epochs, test_accuracies,'r', label='Test Accuracy')\n",
    "plt.gca().set_yticklabels(['{:.0f}%'.format(x*100) for x in plt.gca().get_yticks()])\n",
    "plt.legend()\n",
    "plt.show()"
   ]
  },
  {
   "cell_type": "code",
   "execution_count": null,
   "metadata": {},
   "outputs": [],
   "source": []
  }
 ],
 "metadata": {
  "kernelspec": {
   "display_name": "Python 3 (ipykernel)",
   "language": "python",
   "name": "python3"
  },
  "language_info": {
   "codemirror_mode": {
    "name": "ipython",
    "version": 3
   },
   "file_extension": ".py",
   "mimetype": "text/x-python",
   "name": "python",
   "nbconvert_exporter": "python",
   "pygments_lexer": "ipython3",
   "version": "3.10.6"
  }
 },
 "nbformat": 4,
 "nbformat_minor": 2
}
