{
 "cells": [
  {
   "attachments": {},
   "cell_type": "markdown",
   "metadata": {},
   "source": [
    "#### 1. Import the Relevent Packages"
   ]
  },
  {
   "cell_type": "code",
   "execution_count": 1,
   "metadata": {},
   "outputs": [],
   "source": [
    "import torch\n",
    "import torch.nn as nn\n",
    "import torch.optim as optim\n",
    "from torchvision import transforms, datasets, models\n",
    "import cv2\n",
    "import numpy as np\n",
    "import matplotlib.pyplot as plt\n",
    "from torch.utils.data import DataLoader, Dataset\n",
    "from glob import glob\n",
    "from torchsummary import summary\n",
    "import os\n",
    "import warnings\n",
    "warnings.filterwarnings('ignore')"
   ]
  },
  {
   "cell_type": "code",
   "execution_count": 2,
   "metadata": {},
   "outputs": [],
   "source": [
    "# Device configuration\n",
    "device = torch.device(\"cuda\" if torch.cuda.is_available() else \"cpu\")"
   ]
  },
  {
   "attachments": {},
   "cell_type": "markdown",
   "metadata": {},
   "source": [
    "#### 2. Prepare the Dataset"
   ]
  },
  {
   "cell_type": "code",
   "execution_count": 3,
   "metadata": {},
   "outputs": [],
   "source": [
    "class MyDataset(Dataset):\n",
    "    \n",
    "    def __init__(self, root, transform_status=True):\n",
    "        \n",
    "        self.root = root\n",
    "        self.images_paths = [glob(f'{root}/{folder}/*.jpg') for folder in os.listdir(f\"{root}\")] \n",
    "\n",
    "        import itertools\n",
    "        self.images_paths = list(itertools.chain.from_iterable(self.images_paths))\n",
    "\n",
    "        import random\n",
    "        random.shuffle(self.images_paths)\n",
    "\n",
    "        self.classes_names = {class_name:label for label, class_name in enumerate(os.listdir(f\"{root}\"))}\n",
    "        self.labels = [self.classes_names[os.path.basename(os.path.dirname(path))] for path in self.images_paths]\n",
    "        self.transform_status = transform_status\n",
    "        self.transform = transforms.Normalize(mean=[0.485,0.456, 0.406],std=[0.229, 0.224, 0.225])\n",
    "    \n",
    "    def __len__(self):\n",
    "        return len(self.images_paths)   \n",
    "        \n",
    "    def __getitem__(self, index):\n",
    "        image_path = self.images_paths[index]\n",
    "        image = cv2.imread(image_path)[:,:,::-1]\n",
    "        image = cv2.resize(image, (64,64))\n",
    "        image = torch.tensor(image/255).permute(2,0,1)\n",
    "        if self.transform_status: image = self.transform(image)\n",
    "        label = self.labels[index]\n",
    "        \n",
    "        return image.float().to(device), torch.tensor([label]).float().to(device)\n",
    "    \n",
    "    "
   ]
  },
  {
   "cell_type": "code",
   "execution_count": 4,
   "metadata": {},
   "outputs": [],
   "source": [
    "data =  MyDataset(\"dataset_rgb/train\", transform_status=False)"
   ]
  },
  {
   "cell_type": "code",
   "execution_count": 5,
   "metadata": {},
   "outputs": [
    {
     "data": {
      "text/plain": [
       "{'River': 0,\n",
       " 'HerbaceousVegetation': 1,\n",
       " 'Residential': 2,\n",
       " 'Highway': 3,\n",
       " 'SeaLake': 4,\n",
       " 'AnnualCrop': 5,\n",
       " 'PermanentCrop': 6,\n",
       " 'Forest': 7,\n",
       " 'Industrial': 8,\n",
       " 'Pasture': 9}"
      ]
     },
     "execution_count": 5,
     "metadata": {},
     "output_type": "execute_result"
    }
   ],
   "source": [
    "data.classes_names"
   ]
  },
  {
   "cell_type": "code",
   "execution_count": 6,
   "metadata": {},
   "outputs": [],
   "source": [
    "import random\n",
    "image, label = data[random.randint(0, len(data))]"
   ]
  },
  {
   "cell_type": "code",
   "execution_count": 7,
   "metadata": {},
   "outputs": [
    {
     "name": "stdout",
     "output_type": "stream",
     "text": [
      "Image Size: 64 x 64 x 3\n",
      "Label: tensor([0.], device='cuda:0')\n",
      "River\n"
     ]
    },
    {
     "data": {
      "image/png": "[encoded data removed]",
      "text/plain": [
       "<Figure size 432x288 with 1 Axes>"
      ]
     },
     "metadata": {
      "needs_background": "light"
     },
     "output_type": "display_data"
    }
   ],
   "source": [
    "print(f\"Image Size: {image.shape[2]} x {image.shape[1]} x {image.shape[0]}\")\n",
    "print(f\"Label: {label}\")\n",
    "print([key  for key, value in data.classes_names.items() if value == label][0])\n",
    "plt.imshow(image.permute(1,2,0).cpu().numpy())\n",
    "plt.show()"
   ]
  },
  {
   "cell_type": "code",
   "execution_count": 8,
   "metadata": {},
   "outputs": [],
   "source": [
    "train_dataset = MyDataset(\"dataset_rgb/train\", transform_status=True)\n",
    "test_dataset = MyDataset(\"dataset_rgb/test\", transform_status=True)\n",
    "train_dataset_loader = DataLoader(train_dataset, batch_size=32, shuffle=True, drop_last=True)\n",
    "test_dataset_loader = DataLoader(test_dataset, batch_size=32, shuffle=True, drop_last=True)"
   ]
  },
  {
   "attachments": {},
   "cell_type": "markdown",
   "metadata": {},
   "source": [
    "#### 3. Build the Model"
   ]
  },
  {
   "cell_type": "code",
   "execution_count": 16,
   "metadata": {},
   "outputs": [],
   "source": [
    "def conv_block(in_channels, out_channels, kernel_size=3, stride=1, padding=1):\n",
    "    return nn.Sequential(\n",
    "        nn.Conv2d(in_channels=in_channels, out_channels=out_channels, kernel_size=kernel_size, stride=stride, padding=padding),\n",
    "        nn.BatchNorm2d(out_channels),\n",
    "        nn.ReLU(),\n",
    "        nn.MaxPool2d(kernel_size=2, stride=1)\n",
    "    )\n",
    "def build_model():\n",
    "    model = nn.Sequential(\n",
    "        conv_block(3, 64,3),\n",
    "        conv_block(64, 128,3),\n",
    "        conv_block(128, 256,3),\n",
    "        conv_block(256, 512,3),\n",
    "        nn.Flatten(),\n",
    "        nn.Linear(512*60*60, 128),\n",
    "        nn.ReLU(),\n",
    "        nn.Dropout(0.3),\n",
    "        nn.Linear(128, 64),\n",
    "        nn.ReLU(),\n",
    "        nn.Dropout(0.3),\n",
    "        nn.Linear(64, 10),\n",
    "    )\n",
    "        \n",
    "\n",
    "    loss_fn = nn.CrossEntropyLoss()\n",
    "    optimizer = optim.Adam(model.parameters(), lr=1e-3)\n",
    "    \n",
    "    return model.to(device) , loss_fn, optimizer\n"
   ]
  },
  {
   "cell_type": "code",
   "execution_count": 17,
   "metadata": {},
   "outputs": [
    {
     "name": "stderr",
     "output_type": "stream",
     "text": [
      "\n",
      "KeyboardInterrupt\n",
      "\n"
     ]
    }
   ],
   "source": [
    "model , loss_function, optimizer = build_model()"
   ]
  },
  {
   "cell_type": "code",
   "execution_count": 11,
   "metadata": {},
   "outputs": [
    {
     "name": "stdout",
     "output_type": "stream",
     "text": [
      "==========================================================================================\n",
      "Layer (type:depth-idx)                   Output Shape              Param #\n",
      "==========================================================================================\n",
      "├─Sequential: 1-1                        [-1, 32, 63, 63]          --\n",
      "|    └─Conv2d: 2-1                       [-1, 32, 64, 64]          896\n",
      "|    └─BatchNorm2d: 2-2                  [-1, 32, 64, 64]          64\n",
      "|    └─ReLU: 2-3                         [-1, 32, 64, 64]          --\n",
      "|    └─MaxPool2d: 2-4                    [-1, 32, 63, 63]          --\n",
      "├─Sequential: 1-2                        [-1, 64, 62, 62]          --\n",
      "|    └─Conv2d: 2-5                       [-1, 64, 63, 63]          18,496\n",
      "|    └─BatchNorm2d: 2-6                  [-1, 64, 63, 63]          128\n",
      "|    └─ReLU: 2-7                         [-1, 64, 63, 63]          --\n",
      "|    └─MaxPool2d: 2-8                    [-1, 64, 62, 62]          --\n",
      "├─Sequential: 1-3                        [-1, 128, 61, 61]         --\n",
      "|    └─Conv2d: 2-9                       [-1, 128, 62, 62]         73,856\n",
      "|    └─BatchNorm2d: 2-10                 [-1, 128, 62, 62]         256\n",
      "|    └─ReLU: 2-11                        [-1, 128, 62, 62]         --\n",
      "|    └─MaxPool2d: 2-12                   [-1, 128, 61, 61]         --\n",
      "├─Sequential: 1-4                        [-1, 256, 60, 60]         --\n",
      "|    └─Conv2d: 2-13                      [-1, 256, 61, 61]         295,168\n",
      "|    └─BatchNorm2d: 2-14                 [-1, 256, 61, 61]         512\n",
      "|    └─ReLU: 2-15                        [-1, 256, 61, 61]         --\n",
      "|    └─MaxPool2d: 2-16                   [-1, 256, 60, 60]         --\n",
      "├─Sequential: 1-5                        [-1, 512, 59, 59]         --\n",
      "|    └─Conv2d: 2-17                      [-1, 512, 60, 60]         1,180,160\n",
      "|    └─BatchNorm2d: 2-18                 [-1, 512, 60, 60]         1,024\n",
      "|    └─ReLU: 2-19                        [-1, 512, 60, 60]         --\n",
      "|    └─MaxPool2d: 2-20                   [-1, 512, 59, 59]         --\n",
      "├─Sequential: 1-6                        [-1, 512, 58, 58]         --\n",
      "|    └─Conv2d: 2-21                      [-1, 512, 59, 59]         2,359,808\n",
      "|    └─BatchNorm2d: 2-22                 [-1, 512, 59, 59]         1,024\n",
      "|    └─ReLU: 2-23                        [-1, 512, 59, 59]         --\n",
      "|    └─MaxPool2d: 2-24                   [-1, 512, 58, 58]         --\n",
      "├─Flatten: 1-7                           [-1, 1722368]             --\n",
      "├─Linear: 1-8                            [-1, 128]                 220,463,232\n",
      "├─ReLU: 1-9                              [-1, 128]                 --\n",
      "├─Dropout: 1-10                          [-1, 128]                 --\n",
      "├─Linear: 1-11                           [-1, 64]                  8,256\n",
      "├─ReLU: 1-12                             [-1, 64]                  --\n",
      "├─Dropout: 1-13                          [-1, 64]                  --\n",
      "├─Linear: 1-14                           [-1, 10]                  650\n",
      "==========================================================================================\n",
      "Total params: 224,403,530\n",
      "Trainable params: 224,403,530\n",
      "Non-trainable params: 0\n",
      "Total mult-adds (G): 14.14\n",
      "==========================================================================================\n",
      "Input size (MB): 0.05\n",
      "Forward/backward pass size (MB): 83.24\n",
      "Params size (MB): 856.03\n",
      "Estimated Total Size (MB): 939.32\n",
      "==========================================================================================\n"
     ]
    },
    {
     "data": {
      "text/plain": [
       "==========================================================================================\n",
       "Layer (type:depth-idx)                   Output Shape              Param #\n",
       "==========================================================================================\n",
       "├─Sequential: 1-1                        [-1, 32, 63, 63]          --\n",
       "|    └─Conv2d: 2-1                       [-1, 32, 64, 64]          896\n",
       "|    └─BatchNorm2d: 2-2                  [-1, 32, 64, 64]          64\n",
       "|    └─ReLU: 2-3                         [-1, 32, 64, 64]          --\n",
       "|    └─MaxPool2d: 2-4                    [-1, 32, 63, 63]          --\n",
       "├─Sequential: 1-2                        [-1, 64, 62, 62]          --\n",
       "|    └─Conv2d: 2-5                       [-1, 64, 63, 63]          18,496\n",
       "|    └─BatchNorm2d: 2-6                  [-1, 64, 63, 63]          128\n",
       "|    └─ReLU: 2-7                         [-1, 64, 63, 63]          --\n",
       "|    └─MaxPool2d: 2-8                    [-1, 64, 62, 62]          --\n",
       "├─Sequential: 1-3                        [-1, 128, 61, 61]         --\n",
       "|    └─Conv2d: 2-9                       [-1, 128, 62, 62]         73,856\n",
       "|    └─BatchNorm2d: 2-10                 [-1, 128, 62, 62]         256\n",
       "|    └─ReLU: 2-11                        [-1, 128, 62, 62]         --\n",
       "|    └─MaxPool2d: 2-12                   [-1, 128, 61, 61]         --\n",
       "├─Sequential: 1-4                        [-1, 256, 60, 60]         --\n",
       "|    └─Conv2d: 2-13                      [-1, 256, 61, 61]         295,168\n",
       "|    └─BatchNorm2d: 2-14                 [-1, 256, 61, 61]         512\n",
       "|    └─ReLU: 2-15                        [-1, 256, 61, 61]         --\n",
       "|    └─MaxPool2d: 2-16                   [-1, 256, 60, 60]         --\n",
       "├─Sequential: 1-5                        [-1, 512, 59, 59]         --\n",
       "|    └─Conv2d: 2-17                      [-1, 512, 60, 60]         1,180,160\n",
       "|    └─BatchNorm2d: 2-18                 [-1, 512, 60, 60]         1,024\n",
       "|    └─ReLU: 2-19                        [-1, 512, 60, 60]         --\n",
       "|    └─MaxPool2d: 2-20                   [-1, 512, 59, 59]         --\n",
       "├─Sequential: 1-6                        [-1, 512, 58, 58]         --\n",
       "|    └─Conv2d: 2-21                      [-1, 512, 59, 59]         2,359,808\n",
       "|    └─BatchNorm2d: 2-22                 [-1, 512, 59, 59]         1,024\n",
       "|    └─ReLU: 2-23                        [-1, 512, 59, 59]         --\n",
       "|    └─MaxPool2d: 2-24                   [-1, 512, 58, 58]         --\n",
       "├─Flatten: 1-7                           [-1, 1722368]             --\n",
       "├─Linear: 1-8                            [-1, 128]                 220,463,232\n",
       "├─ReLU: 1-9                              [-1, 128]                 --\n",
       "├─Dropout: 1-10                          [-1, 128]                 --\n",
       "├─Linear: 1-11                           [-1, 64]                  8,256\n",
       "├─ReLU: 1-12                             [-1, 64]                  --\n",
       "├─Dropout: 1-13                          [-1, 64]                  --\n",
       "├─Linear: 1-14                           [-1, 10]                  650\n",
       "==========================================================================================\n",
       "Total params: 224,403,530\n",
       "Trainable params: 224,403,530\n",
       "Non-trainable params: 0\n",
       "Total mult-adds (G): 14.14\n",
       "==========================================================================================\n",
       "Input size (MB): 0.05\n",
       "Forward/backward pass size (MB): 83.24\n",
       "Params size (MB): 856.03\n",
       "Estimated Total Size (MB): 939.32\n",
       "=========================================================================================="
      ]
     },
     "execution_count": 11,
     "metadata": {},
     "output_type": "execute_result"
    }
   ],
   "source": [
    "summary(model, torch.zeros(1,3, 64, 64))"
   ]
  },
  {
   "attachments": {},
   "cell_type": "markdown",
   "metadata": {},
   "source": [
    "#### 4. Build the Train and Accuracy Functions "
   ]
  },
  {
   "cell_type": "code",
   "execution_count": 12,
   "metadata": {},
   "outputs": [],
   "source": [
    "def train_batch(model, loss_function, optimizer, image, label):\n",
    "    model.train()\n",
    "    optimizer.zero_grad()\n",
    "    prediction = model(image)\n",
    "    loss = loss_function(prediction, label.long().squeeze())\n",
    "    loss.backward()\n",
    "    optimizer.step()\n",
    "    return loss.item()"
   ]
  },
  {
   "cell_type": "code",
   "execution_count": 13,
   "metadata": {},
   "outputs": [],
   "source": [
    "@torch.no_grad()\n",
    "def accuracy(model, loss_function, image, label):\n",
    "    model.eval()\n",
    "    prediction = model(image)\n",
    "    max_values, argmaxes = prediction.max(-1)\n",
    "    is_correct = argmaxes == label.long().squeeze()\n",
    "    return is_correct.cpu().numpy().tolist()"
   ]
  },
  {
   "cell_type": "code",
   "execution_count": 14,
   "metadata": {},
   "outputs": [],
   "source": [
    "@torch.no_grad()\n",
    "def validation_loss(model, loss_function, image, label):\n",
    "    model.eval()\n",
    "    prediction = model(image)\n",
    "    loss = loss_function(prediction, label.long().squeeze())\n",
    "    return loss.item()"
   ]
  },
  {
   "attachments": {},
   "cell_type": "markdown",
   "metadata": {},
   "source": [
    "#### 5. Train the Model"
   ]
  },
  {
   "cell_type": "code",
   "execution_count": 15,
   "metadata": {},
   "outputs": [
    {
     "name": "stdout",
     "output_type": "stream",
     "text": [
      "Epoch: 1\n"
     ]
    },
    {
     "ename": "OutOfMemoryError",
     "evalue": "CUDA out of memory. Tried to allocate 842.00 MiB (GPU 0; 6.00 GiB total capacity; 4.25 GiB already allocated; 0 bytes free; 4.94 GiB reserved in total by PyTorch) If reserved memory is >> allocated memory try setting max_split_size_mb to avoid fragmentation.  See documentation for Memory Management and PYTORCH_CUDA_ALLOC_CONF",
     "output_type": "error",
     "traceback": [
      "\u001b[0;31m---------------------------------------------------------------------------\u001b[0m",
      "\u001b[0;31mOutOfMemoryError\u001b[0m                          Traceback (most recent call last)",
      "\u001b[0;32m/tmp/ipykernel_806/1302091500.py\u001b[0m in \u001b[0;36m<module>\u001b[0;34m\u001b[0m\n\u001b[1;32m      8\u001b[0m     \u001b[0mtrain_epoch_accuracies\u001b[0m \u001b[0;34m=\u001b[0m \u001b[0;34m[\u001b[0m\u001b[0;34m]\u001b[0m\u001b[0;34m\u001b[0m\u001b[0;34m\u001b[0m\u001b[0m\n\u001b[1;32m      9\u001b[0m     \u001b[0;32mfor\u001b[0m \u001b[0mimage\u001b[0m\u001b[0;34m,\u001b[0m \u001b[0mlabel\u001b[0m \u001b[0;32min\u001b[0m \u001b[0miter\u001b[0m\u001b[0;34m(\u001b[0m\u001b[0mtrain_dataset_loader\u001b[0m\u001b[0;34m)\u001b[0m\u001b[0;34m:\u001b[0m\u001b[0;34m\u001b[0m\u001b[0;34m\u001b[0m\u001b[0m\n\u001b[0;32m---> 10\u001b[0;31m         \u001b[0mloss\u001b[0m \u001b[0;34m=\u001b[0m \u001b[0mtrain_batch\u001b[0m\u001b[0;34m(\u001b[0m\u001b[0mmodel\u001b[0m\u001b[0;34m,\u001b[0m \u001b[0mloss_function\u001b[0m\u001b[0;34m,\u001b[0m \u001b[0moptimizer\u001b[0m\u001b[0;34m,\u001b[0m \u001b[0mimage\u001b[0m\u001b[0;34m,\u001b[0m \u001b[0mlabel\u001b[0m\u001b[0;34m)\u001b[0m\u001b[0;34m\u001b[0m\u001b[0;34m\u001b[0m\u001b[0m\n\u001b[0m\u001b[1;32m     11\u001b[0m         \u001b[0mtrain_epoch_losses\u001b[0m\u001b[0;34m.\u001b[0m\u001b[0mappend\u001b[0m\u001b[0;34m(\u001b[0m\u001b[0mloss\u001b[0m\u001b[0;34m)\u001b[0m\u001b[0;34m\u001b[0m\u001b[0;34m\u001b[0m\u001b[0m\n\u001b[1;32m     12\u001b[0m     \u001b[0mtrain_epoch_loss\u001b[0m \u001b[0;34m=\u001b[0m \u001b[0mnp\u001b[0m\u001b[0;34m.\u001b[0m\u001b[0mmean\u001b[0m\u001b[0;34m(\u001b[0m\u001b[0mtrain_epoch_losses\u001b[0m\u001b[0;34m)\u001b[0m\u001b[0;34m\u001b[0m\u001b[0;34m\u001b[0m\u001b[0m\n",
      "\u001b[0;32m/tmp/ipykernel_806/3333743331.py\u001b[0m in \u001b[0;36mtrain_batch\u001b[0;34m(model, loss_function, optimizer, image, label)\u001b[0m\n\u001b[1;32m      4\u001b[0m     \u001b[0mprediction\u001b[0m \u001b[0;34m=\u001b[0m \u001b[0mmodel\u001b[0m\u001b[0;34m(\u001b[0m\u001b[0mimage\u001b[0m\u001b[0;34m)\u001b[0m\u001b[0;34m\u001b[0m\u001b[0;34m\u001b[0m\u001b[0m\n\u001b[1;32m      5\u001b[0m     \u001b[0mloss\u001b[0m \u001b[0;34m=\u001b[0m \u001b[0mloss_function\u001b[0m\u001b[0;34m(\u001b[0m\u001b[0mprediction\u001b[0m\u001b[0;34m,\u001b[0m \u001b[0mlabel\u001b[0m\u001b[0;34m.\u001b[0m\u001b[0mlong\u001b[0m\u001b[0;34m(\u001b[0m\u001b[0;34m)\u001b[0m\u001b[0;34m.\u001b[0m\u001b[0msqueeze\u001b[0m\u001b[0;34m(\u001b[0m\u001b[0;34m)\u001b[0m\u001b[0;34m)\u001b[0m\u001b[0;34m\u001b[0m\u001b[0;34m\u001b[0m\u001b[0m\n\u001b[0;32m----> 6\u001b[0;31m     \u001b[0mloss\u001b[0m\u001b[0;34m.\u001b[0m\u001b[0mbackward\u001b[0m\u001b[0;34m(\u001b[0m\u001b[0;34m)\u001b[0m\u001b[0;34m\u001b[0m\u001b[0;34m\u001b[0m\u001b[0m\n\u001b[0m\u001b[1;32m      7\u001b[0m     \u001b[0moptimizer\u001b[0m\u001b[0;34m.\u001b[0m\u001b[0mstep\u001b[0m\u001b[0;34m(\u001b[0m\u001b[0;34m)\u001b[0m\u001b[0;34m\u001b[0m\u001b[0;34m\u001b[0m\u001b[0m\n\u001b[1;32m      8\u001b[0m     \u001b[0;32mreturn\u001b[0m \u001b[0mloss\u001b[0m\u001b[0;34m.\u001b[0m\u001b[0mitem\u001b[0m\u001b[0;34m(\u001b[0m\u001b[0;34m)\u001b[0m\u001b[0;34m\u001b[0m\u001b[0;34m\u001b[0m\u001b[0m\n",
      "\u001b[0;32m~/.local/lib/python3.10/site-packages/torch/_tensor.py\u001b[0m in \u001b[0;36mbackward\u001b[0;34m(self, gradient, retain_graph, create_graph, inputs)\u001b[0m\n\u001b[1;32m    485\u001b[0m                 \u001b[0minputs\u001b[0m\u001b[0;34m=\u001b[0m\u001b[0minputs\u001b[0m\u001b[0;34m,\u001b[0m\u001b[0;34m\u001b[0m\u001b[0;34m\u001b[0m\u001b[0m\n\u001b[1;32m    486\u001b[0m             )\n\u001b[0;32m--> 487\u001b[0;31m         torch.autograd.backward(\n\u001b[0m\u001b[1;32m    488\u001b[0m             \u001b[0mself\u001b[0m\u001b[0;34m,\u001b[0m \u001b[0mgradient\u001b[0m\u001b[0;34m,\u001b[0m \u001b[0mretain_graph\u001b[0m\u001b[0;34m,\u001b[0m \u001b[0mcreate_graph\u001b[0m\u001b[0;34m,\u001b[0m \u001b[0minputs\u001b[0m\u001b[0;34m=\u001b[0m\u001b[0minputs\u001b[0m\u001b[0;34m\u001b[0m\u001b[0;34m\u001b[0m\u001b[0m\n\u001b[1;32m    489\u001b[0m         )\n",
      "\u001b[0;32m~/.local/lib/python3.10/site-packages/torch/autograd/__init__.py\u001b[0m in \u001b[0;36mbackward\u001b[0;34m(tensors, grad_tensors, retain_graph, create_graph, grad_variables, inputs)\u001b[0m\n\u001b[1;32m    198\u001b[0m     \u001b[0;31m# some Python versions print out the first line of a multi-line function\u001b[0m\u001b[0;34m\u001b[0m\u001b[0;34m\u001b[0m\u001b[0m\n\u001b[1;32m    199\u001b[0m     \u001b[0;31m# calls in the traceback and some print out the last line\u001b[0m\u001b[0;34m\u001b[0m\u001b[0;34m\u001b[0m\u001b[0m\n\u001b[0;32m--> 200\u001b[0;31m     Variable._execution_engine.run_backward(  # Calls into the C++ engine to run the backward pass\n\u001b[0m\u001b[1;32m    201\u001b[0m         \u001b[0mtensors\u001b[0m\u001b[0;34m,\u001b[0m \u001b[0mgrad_tensors_\u001b[0m\u001b[0;34m,\u001b[0m \u001b[0mretain_graph\u001b[0m\u001b[0;34m,\u001b[0m \u001b[0mcreate_graph\u001b[0m\u001b[0;34m,\u001b[0m \u001b[0minputs\u001b[0m\u001b[0;34m,\u001b[0m\u001b[0;34m\u001b[0m\u001b[0;34m\u001b[0m\u001b[0m\n\u001b[1;32m    202\u001b[0m         allow_unreachable=True, accumulate_grad=True)  # Calls into the C++ engine to run the backward pass\n",
      "\u001b[0;31mOutOfMemoryError\u001b[0m: CUDA out of memory. Tried to allocate 842.00 MiB (GPU 0; 6.00 GiB total capacity; 4.25 GiB already allocated; 0 bytes free; 4.94 GiB reserved in total by PyTorch) If reserved memory is >> allocated memory try setting max_split_size_mb to avoid fragmentation.  See documentation for Memory Management and PYTORCH_CUDA_ALLOC_CONF"
     ]
    }
   ],
   "source": [
    "train_losses = []\n",
    "train_accuracies = []\n",
    "test_losses = []\n",
    "test_accuracies = []\n",
    "for epoch in range(25):\n",
    "    print(f\"Epoch: {epoch+1}\")\n",
    "    train_epoch_losses = []\n",
    "    train_epoch_accuracies = []\n",
    "    for image, label in iter(train_dataset_loader):\n",
    "        loss = train_batch(model, loss_function, optimizer, image, label)\n",
    "        train_epoch_losses.append(loss)\n",
    "    train_epoch_loss = np.mean(train_epoch_losses)\n",
    "    print(f\"Train Loss: {train_epoch_loss:.4f}\")\n",
    "    train_losses.append(train_epoch_loss)\n",
    "    \n",
    "    for image, label in iter(train_dataset_loader):\n",
    "        is_correct = accuracy(model, loss_function, image, label)\n",
    "        train_epoch_accuracies.extend(is_correct)\n",
    "    train_epoch_accuracy = np.mean(train_epoch_accuracies)\n",
    "    print(f\"Train Accuracy: {train_epoch_accuracy*100:.2f}%\")\n",
    "    train_accuracies.append(train_epoch_accuracy)\n",
    "    \n",
    "    test_epoch_losses = []\n",
    "    test_epoch_accuracies = []\n",
    "    for image, label in iter(test_dataset_loader):\n",
    "        loss = validation_loss(model, loss_function, image, label)\n",
    "        test_epoch_losses.append(loss)\n",
    "        is_correct = accuracy(model, loss_function, image, label)\n",
    "        test_epoch_accuracies.extend(is_correct)\n",
    "    test_epoch_loss = np.mean(test_epoch_losses)\n",
    "    print(f\"Test Loss: {test_epoch_loss:.4f}\")\n",
    "    test_losses.append(test_epoch_loss)\n",
    "    test_epcoh_accuracy = np.mean(test_epoch_accuracies)\n",
    "    print(f\"Test Accuracy: {test_epcoh_accuracy*100:.2f}%\")\n",
    "    test_accuracies.append(test_epcoh_accuracy)\n"
   ]
  },
  {
   "attachments": {},
   "cell_type": "markdown",
   "metadata": {},
   "source": [
    "#### 6. Visualize the Train Loss/Accuracy and the Test Loss/Accuracy"
   ]
  },
  {
   "cell_type": "code",
   "execution_count": null,
   "metadata": {},
   "outputs": [
    {
     "data": {
      "image/png": "[encoded data removed]",
      "text/plain": [
       "<Figure size 1440x360 with 2 Axes>"
      ]
     },
     "metadata": {
      "needs_background": "light"
     },
     "output_type": "display_data"
    }
   ],
   "source": [
    "epochs = np.arange(25)+1\n",
    "plt.figure(figsize=(20,5))\n",
    "plt.subplot(121)\n",
    "plt.title('Training and Test Loss value over increasing epochs')\n",
    "plt.plot(epochs, train_losses,'b', label='Training Loss')\n",
    "plt.plot(epochs, test_losses,'r', label='Test Loss')\n",
    "plt.legend()\n",
    "plt.subplot(122)\n",
    "plt.title('Training and Test Accuracy value over increasing epochs')\n",
    "plt.plot(epochs, train_accuracies,'b', label='Training Accuracy')\n",
    "plt.plot(epochs, test_accuracies,'r', label='Test Accuracy')\n",
    "plt.gca().set_yticklabels(['{:.0f}%'.format(x*100) for x in plt.gca().get_yticks()])\n",
    "plt.legend()\n",
    "plt.show()"
   ]
  },
  {
   "cell_type": "code",
   "execution_count": null,
   "metadata": {},
   "outputs": [],
   "source": []
  }
 ],
 "metadata": {
  "kernelspec": {
   "display_name": "Python 3 (ipykernel)",
   "language": "python",
   "name": "python3"
  },
  "language_info": {
   "codemirror_mode": {
    "name": "ipython",
    "version": 3
   },
   "file_extension": ".py",
   "mimetype": "text/x-python",
   "name": "python",
   "nbconvert_exporter": "python",
   "pygments_lexer": "ipython3",
   "version": "3.10.6"
  }
 },
 "nbformat": 4,
 "nbformat_minor": 2
}
