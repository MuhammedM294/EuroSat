{
 "cells": [
  {
   "attachments": {},
   "cell_type": "markdown",
   "metadata": {},
   "source": [
    "#### 1. Import the Relevent Packages"
   ]
  },
  {
   "cell_type": "code",
   "execution_count": 49,
   "metadata": {},
   "outputs": [],
   "source": [
    "import torch\n",
    "import torch.nn as nn\n",
    "import torch.optim as optim\n",
    "from torchvision import transforms, datasets, models\n",
    "import cv2\n",
    "import numpy as np\n",
    "import matplotlib.pyplot as plt\n",
    "from torch.utils.data import DataLoader, Dataset\n",
    "from glob import glob\n",
    "from torchsummary import summary\n",
    "import os\n",
    "import warnings\n",
    "warnings.filterwarnings('ignore')"
   ]
  },
  {
   "cell_type": "code",
   "execution_count": 50,
   "metadata": {},
   "outputs": [],
   "source": [
    "# Device configuration\n",
    "device = torch.device(\"cuda\" if torch.cuda.is_available() else \"cpu\")"
   ]
  },
  {
   "attachments": {},
   "cell_type": "markdown",
   "metadata": {},
   "source": [
    "#### 2. Prepare the Dataset"
   ]
  },
  {
   "cell_type": "code",
   "execution_count": 51,
   "metadata": {},
   "outputs": [],
   "source": [
    "class MyDataset(Dataset):\n",
    "    \n",
    "    def __init__(self, root, transform_status=True):\n",
    "        \n",
    "        self.root = root\n",
    "        self.images_paths = [glob(f'{root}/{folder}/*.jpg') for folder in os.listdir(f\"{root}\")] \n",
    "\n",
    "        import itertools\n",
    "        self.images_paths = list(itertools.chain.from_iterable(self.images_paths))\n",
    "\n",
    "        import random\n",
    "        random.shuffle(self.images_paths)\n",
    "\n",
    "        self.classes_names = {class_name:label for label, class_name in enumerate(os.listdir(f\"{root}\"))}\n",
    "        self.labels = [self.classes_names[os.path.basename(os.path.dirname(path))] for path in self.images_paths]\n",
    "        self.transform_status = transform_status\n",
    "        self.transform = transforms.Normalize(mean=[0.485,0.456, 0.406],std=[0.229, 0.224, 0.225])\n",
    "    \n",
    "    def __len__(self):\n",
    "        return len(self.images_paths)   \n",
    "        \n",
    "    def __getitem__(self, index):\n",
    "        image_path = self.images_paths[index]\n",
    "        image = cv2.imread(image_path)[:,:,::-1]\n",
    "        image = cv2.resize(image, (64,64))\n",
    "        image = torch.tensor(image/255).permute(2,0,1)\n",
    "        if self.transform_status: image = self.transform(image)\n",
    "        label = self.labels[index]\n",
    "        \n",
    "        return image.float().to(device), torch.tensor([label]).float().to(device)\n",
    "    \n",
    "    "
   ]
  },
  {
   "cell_type": "code",
   "execution_count": 52,
   "metadata": {},
   "outputs": [],
   "source": [
    "data =  MyDataset(\"dataset_rgb/train\", transform_status=False)"
   ]
  },
  {
   "cell_type": "code",
   "execution_count": 53,
   "metadata": {},
   "outputs": [
    {
     "data": {
      "text/plain": [
       "{'River': 0,\n",
       " 'HerbaceousVegetation': 1,\n",
       " 'Residential': 2,\n",
       " 'Highway': 3,\n",
       " 'SeaLake': 4,\n",
       " 'AnnualCrop': 5,\n",
       " 'PermanentCrop': 6,\n",
       " 'Forest': 7,\n",
       " 'Industrial': 8,\n",
       " 'Pasture': 9}"
      ]
     },
     "execution_count": 53,
     "metadata": {},
     "output_type": "execute_result"
    }
   ],
   "source": [
    "data.classes_names"
   ]
  },
  {
   "cell_type": "code",
   "execution_count": 54,
   "metadata": {},
   "outputs": [],
   "source": [
    "import random\n",
    "image, label = data[random.randint(0, len(data))]"
   ]
  },
  {
   "cell_type": "code",
   "execution_count": 55,
   "metadata": {},
   "outputs": [
    {
     "name": "stdout",
     "output_type": "stream",
     "text": [
      "Image Size: 64 x 64 x 3\n",
      "Label: tensor([3.], device='cuda:0')\n",
      "Highway\n"
     ]
    },
    {
     "data": {
      "image/png": "[encoded data removed]",
      "text/plain": [
       "<Figure size 640x480 with 1 Axes>"
      ]
     },
     "metadata": {},
     "output_type": "display_data"
    }
   ],
   "source": [
    "print(f\"Image Size: {image.shape[2]} x {image.shape[1]} x {image.shape[0]}\")\n",
    "print(f\"Label: {label}\")\n",
    "print([key  for key, value in data.classes_names.items() if value == label][0])\n",
    "plt.imshow(image.permute(1,2,0).cpu().numpy())\n",
    "plt.show()"
   ]
  },
  {
   "cell_type": "code",
   "execution_count": 56,
   "metadata": {},
   "outputs": [],
   "source": [
    "train_dataset = MyDataset(\"dataset_rgb/train\", transform_status=True)\n",
    "test_dataset = MyDataset(\"dataset_rgb/test\", transform_status=True)\n",
    "train_dataset_loader = DataLoader(train_dataset, batch_size=32, shuffle=True, drop_last=True)\n",
    "test_dataset_loader = DataLoader(test_dataset, batch_size=32, shuffle=True, drop_last=True)"
   ]
  },
  {
   "attachments": {},
   "cell_type": "markdown",
   "metadata": {},
   "source": [
    "#### 3. Build the Model"
   ]
  },
  {
   "cell_type": "code",
   "execution_count": 57,
   "metadata": {},
   "outputs": [],
   "source": [
    "def build_model():\n",
    "    vgg19 = models.vgg19(pretrained=True)\n",
    "    for param in vgg19.parameters():\n",
    "        param.requires_grad = False\n",
    "    vgg19.avgpool = nn.AdaptiveAvgPool2d(output_size=(1,1))\n",
    "    vgg19.classifier = nn.Sequential(   nn.Flatten(),\n",
    "                                        nn.Linear(512, 128),\n",
    "                                        nn.ReLU(),\n",
    "                                        nn.Dropout(0.2),\n",
    "                                        nn.Linear(128, 10))\n",
    "    loss_function = nn.CrossEntropyLoss()\n",
    "    optimizer = optim.Adam(vgg19.parameters(), lr=1e-3)\n",
    "\n",
    "    return vgg19.to(device), loss_function, optimizer"
   ]
  },
  {
   "cell_type": "code",
   "execution_count": 58,
   "metadata": {},
   "outputs": [],
   "source": [
    "model , loss_function, optimizer = build_model()"
   ]
  },
  {
   "cell_type": "code",
   "execution_count": null,
   "metadata": {},
   "outputs": [],
   "source": []
  }
 ],
 "metadata": {
  "kernelspec": {
   "display_name": "cv",
   "language": "python",
   "name": "python3"
  },
  "language_info": {
   "codemirror_mode": {
    "name": "ipython",
    "version": 3
   },
   "file_extension": ".py",
   "mimetype": "text/x-python",
   "name": "python",
   "nbconvert_exporter": "python",
   "pygments_lexer": "ipython3",
   "version": "3.11.3"
  },
  "orig_nbformat": 4
 },
 "nbformat": 4,
 "nbformat_minor": 2
}
